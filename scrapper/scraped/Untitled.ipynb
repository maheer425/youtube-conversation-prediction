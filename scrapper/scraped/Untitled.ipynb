{
 "cells": [
  {
   "cell_type": "code",
   "execution_count": 5,
   "metadata": {
    "collapsed": false
   },
   "outputs": [],
   "source": [
    "from __future__ import division\n",
    "import json\n",
    "import datetime\n",
    "from dateutil.parser import parse\n",
    "\n",
    "def get_date(target_views, vid_id):\n",
    "    \"\"\"\n",
    "    =Inputs=\n",
    "    target_views : int\n",
    "        The desired number of views to return a date at\n",
    "    vid_id: string\n",
    "        The video id of the video to get the date via scrape\n",
    "    =Outputs=\n",
    "    error: float\n",
    "        % error of approxmation\n",
    "    approx_date: datetime (day specific)\n",
    "        the day where said number of views were achieved\n",
    "    \"\"\"\n",
    "    def get_views_idxs(target_views, views_list):\n",
    "        for idx,views in enumerate(views_list):\n",
    "            if views == target_views:\n",
    "                return [idx]\n",
    "            if views > target_views:\n",
    "                if (idx > 0):\n",
    "                    return [idx-1,idx] #average of previous and current\n",
    "                else:\n",
    "                    return [idx]\n",
    "        return None\n",
    "    #read scrape from json\n",
    "    scrape = json.load(open(vid_id+'.scrape'))\n",
    "    #get data\n",
    "    views_list   = scrape['data']\n",
    "    ret_date_str = scrape['ret_date']\n",
    "    pub_date_str = scrape['pub_date']\n",
    "    #convert dates to datetime\n",
    "    ret_date     = parse(ret_date_str)\n",
    "    pub_date     = parse(pub_date_str)\n",
    "\n",
    "    #get neighboring views and idx\n",
    "    views_idxs = get_views_idxs(target_views, views_list)\n",
    "    if views_idxs == None:\n",
    "        print \"Video does not have\", target_views, \"views\"\n",
    "        return None\n",
    "    \n",
    "    #get closest views and idx\n",
    "    sorted_view_idxs = sorted([(abs(views_list[views_idx] - target_views), views_idx )for views_idx in views_idxs])\n",
    "    distance, cloest_view_idx = sorted_view_idxs[0]\n",
    "    \n",
    "    #get approximation error\n",
    "    error = (distance/target_views)\n",
    "    \n",
    "    #get approximated date\n",
    "    date_approx_ratio = cloest_view_idx/len(views_list)\n",
    "    days_diff = (ret_date - pub_date).days\n",
    "    days_from_pub = days_diff * date_approx_ratio\n",
    "    date_target = pub_date + datetime.timedelta(days=days_from_pub)\n",
    "    \n",
    "    \n",
    "    return (error, date_target)"
   ]
  },
  {
   "cell_type": "code",
   "execution_count": 6,
   "metadata": {
    "collapsed": false
   },
   "outputs": [
    {
     "data": {
      "text/plain": [
       "(2.7887, datetime.datetime(2013, 8, 17, 0, 0))"
      ]
     },
     "execution_count": 6,
     "metadata": {},
     "output_type": "execute_result"
    }
   ],
   "source": [
    "get_date(10000, '3clA3oeljGU')"
   ]
  },
  {
   "cell_type": "code",
   "execution_count": null,
   "metadata": {
    "collapsed": true
   },
   "outputs": [],
   "source": []
  },
  {
   "cell_type": "code",
   "execution_count": null,
   "metadata": {
    "collapsed": true
   },
   "outputs": [],
   "source": []
  },
  {
   "cell_type": "code",
   "execution_count": null,
   "metadata": {
    "collapsed": true
   },
   "outputs": [],
   "source": []
  }
 ],
 "metadata": {
  "kernelspec": {
   "display_name": "Python 2",
   "language": "python",
   "name": "python2"
  },
  "language_info": {
   "codemirror_mode": {
    "name": "ipython",
    "version": 2
   },
   "file_extension": ".py",
   "mimetype": "text/x-python",
   "name": "python",
   "nbconvert_exporter": "python",
   "pygments_lexer": "ipython2",
   "version": "2.7.9"
  }
 },
 "nbformat": 4,
 "nbformat_minor": 0
}
