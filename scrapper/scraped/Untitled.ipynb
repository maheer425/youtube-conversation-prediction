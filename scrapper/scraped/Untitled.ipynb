{
 "cells": [
  {
   "cell_type": "code",
   "execution_count": 4,
   "metadata": {
    "collapsed": false
   },
   "outputs": [],
   "source": [
    "from __future__ import division\n",
    "import re\n",
    "import datetime\n",
    "from dateutil.parser import parse\n",
    "\n",
    "def get_date(target_views, vid_id):\n",
    "    \"\"\"\n",
    "    =Inputs=\n",
    "    target_views : int\n",
    "        The desired number of views to return a date at\n",
    "    vid_id: string\n",
    "        The video id of the video to get the date via scrape\n",
    "    =Outputs=\n",
    "    error: float\n",
    "        % error of approxmation\n",
    "    approx_date: datetime (day specific)\n",
    "        the day where said number of views were achieved\n",
    "    \"\"\"\n",
    "    def get_views_idxs(target_views, views_list):\n",
    "        for idx,views in enumerate(views_list):\n",
    "            if views == target_views:\n",
    "                return [idx]\n",
    "            if views > target_views:\n",
    "                if (idx > 0):\n",
    "                    return [idx-1,idx] #average of previous and current\n",
    "                else:\n",
    "                    return [idx]\n",
    "        return None\n",
    "    #read scrape via regex\n",
    "    my_file = open(vid_id+'.scrape')\n",
    "    content = my_file.read()\n",
    "    #get data\n",
    "    data_str = re.findall(r\"<graph_data><!\\[CDATA(.*)]></graph_data>\", content)[0]\n",
    "    data_str = re.sub('false', 'False', data_str)\n",
    "    data_str = re.sub('true', 'True', data_str)\n",
    "    data = eval(data_str)\n",
    "    views_list = data[0]['views']['cumulative']['data']\n",
    "    #get ret date\n",
    "    ret_date_str = re.findall(r\"%RET_START%(.*)%RET_END%\", content)[0]\n",
    "    ret_date = parse(ret_date_str)\n",
    "    #get pub date\n",
    "    pub_date_str = re.findall(r\"%PUB_START%(.*)%PUB_END%\", content)[0]\n",
    "    print pub_date_str\n",
    "    pub_date = parse(pub_date_str)\n",
    "\n",
    "\n",
    "    #get neighboring views and idx\n",
    "    views_idxs = get_views_idxs(target_views, views_list)\n",
    "    if views_idxs == None:\n",
    "        print \"Video does not have\", target_views, \"views\"\n",
    "        return None\n",
    "    \n",
    "    #get closest views and idx\n",
    "    sorted_view_idxs = sorted([(abs(views_list[views_idx] - target_views), views_idx )for views_idx in views_idxs])\n",
    "    distance, cloest_view_idx = sorted_view_idxs[0]\n",
    "    \n",
    "    #get approximation error\n",
    "    error = (distance/target_views)\n",
    "    \n",
    "    #get approximated date\n",
    "    date_approx_ratio = cloest_view_idx/len(views_list)\n",
    "    days_diff = (ret_date - pub_date).days\n",
    "    days_from_pub = days_diff * date_approx_ratio\n",
    "    date_target = pub_date + datetime.timedelta(days=days_from_pub)\n",
    "    \n",
    "    \n",
    "    return (error, date_target)"
   ]
  },
  {
   "cell_type": "code",
   "execution_count": 5,
   "metadata": {
    "collapsed": false
   },
   "outputs": [
    {
     "name": "stdout",
     "output_type": "stream",
     "text": [
      "ep 19, 2010\n"
     ]
    },
    {
     "ename": "TypeError",
     "evalue": "'NoneType' object is not iterable",
     "output_type": "error",
     "traceback": [
      "\u001b[1;31m---------------------------------------------------------------------------\u001b[0m",
      "\u001b[1;31mTypeError\u001b[0m                                 Traceback (most recent call last)",
      "\u001b[1;32m<ipython-input-5-068438b2d208>\u001b[0m in \u001b[0;36m<module>\u001b[1;34m()\u001b[0m\n\u001b[1;32m----> 1\u001b[1;33m \u001b[0mget_date\u001b[0m\u001b[1;33m(\u001b[0m\u001b[1;36m10000\u001b[0m\u001b[1;33m,\u001b[0m \u001b[1;34m'ngN4TWgL3sY'\u001b[0m\u001b[1;33m)\u001b[0m\u001b[1;33m\u001b[0m\u001b[0m\n\u001b[0m",
      "\u001b[1;32m<ipython-input-4-21d87004a523>\u001b[0m in \u001b[0;36mget_date\u001b[1;34m(target_views, vid_id)\u001b[0m\n\u001b[0;32m     42\u001b[0m     \u001b[0mpub_date_str\u001b[0m \u001b[1;33m=\u001b[0m \u001b[0mre\u001b[0m\u001b[1;33m.\u001b[0m\u001b[0mfindall\u001b[0m\u001b[1;33m(\u001b[0m\u001b[1;34mr\"%PUB_START%(.*)%PUB_END%\"\u001b[0m\u001b[1;33m,\u001b[0m \u001b[0mcontent\u001b[0m\u001b[1;33m)\u001b[0m\u001b[1;33m[\u001b[0m\u001b[1;36m0\u001b[0m\u001b[1;33m]\u001b[0m\u001b[1;33m\u001b[0m\u001b[0m\n\u001b[0;32m     43\u001b[0m     \u001b[1;32mprint\u001b[0m \u001b[0mpub_date_str\u001b[0m\u001b[1;33m\u001b[0m\u001b[0m\n\u001b[1;32m---> 44\u001b[1;33m     \u001b[0mpub_date\u001b[0m \u001b[1;33m=\u001b[0m \u001b[0mparse\u001b[0m\u001b[1;33m(\u001b[0m\u001b[0mpub_date_str\u001b[0m\u001b[1;33m)\u001b[0m\u001b[1;33m\u001b[0m\u001b[0m\n\u001b[0m\u001b[0;32m     45\u001b[0m \u001b[1;33m\u001b[0m\u001b[0m\n\u001b[0;32m     46\u001b[0m \u001b[1;33m\u001b[0m\u001b[0m\n",
      "\u001b[1;32m/usr/lib/python2.7/site-packages/dateutil/parser.pyc\u001b[0m in \u001b[0;36mparse\u001b[1;34m(timestr, parserinfo, **kwargs)\u001b[0m\n\u001b[0;32m    746\u001b[0m         \u001b[1;32mreturn\u001b[0m \u001b[0mparser\u001b[0m\u001b[1;33m(\u001b[0m\u001b[0mparserinfo\u001b[0m\u001b[1;33m)\u001b[0m\u001b[1;33m.\u001b[0m\u001b[0mparse\u001b[0m\u001b[1;33m(\u001b[0m\u001b[0mtimestr\u001b[0m\u001b[1;33m,\u001b[0m \u001b[1;33m**\u001b[0m\u001b[0mkwargs\u001b[0m\u001b[1;33m)\u001b[0m\u001b[1;33m\u001b[0m\u001b[0m\n\u001b[0;32m    747\u001b[0m     \u001b[1;32melse\u001b[0m\u001b[1;33m:\u001b[0m\u001b[1;33m\u001b[0m\u001b[0m\n\u001b[1;32m--> 748\u001b[1;33m         \u001b[1;32mreturn\u001b[0m \u001b[0mDEFAULTPARSER\u001b[0m\u001b[1;33m.\u001b[0m\u001b[0mparse\u001b[0m\u001b[1;33m(\u001b[0m\u001b[0mtimestr\u001b[0m\u001b[1;33m,\u001b[0m \u001b[1;33m**\u001b[0m\u001b[0mkwargs\u001b[0m\u001b[1;33m)\u001b[0m\u001b[1;33m\u001b[0m\u001b[0m\n\u001b[0m\u001b[0;32m    749\u001b[0m \u001b[1;33m\u001b[0m\u001b[0m\n\u001b[0;32m    750\u001b[0m \u001b[1;33m\u001b[0m\u001b[0m\n",
      "\u001b[1;32m/usr/lib/python2.7/site-packages/dateutil/parser.pyc\u001b[0m in \u001b[0;36mparse\u001b[1;34m(self, timestr, default, ignoretz, tzinfos, **kwargs)\u001b[0m\n\u001b[0;32m    308\u001b[0m \u001b[1;33m\u001b[0m\u001b[0m\n\u001b[0;32m    309\u001b[0m \u001b[1;33m\u001b[0m\u001b[0m\n\u001b[1;32m--> 310\u001b[1;33m         \u001b[0mres\u001b[0m\u001b[1;33m,\u001b[0m \u001b[0mskipped_tokens\u001b[0m \u001b[1;33m=\u001b[0m \u001b[0mself\u001b[0m\u001b[1;33m.\u001b[0m\u001b[0m_parse\u001b[0m\u001b[1;33m(\u001b[0m\u001b[0mtimestr\u001b[0m\u001b[1;33m,\u001b[0m \u001b[1;33m**\u001b[0m\u001b[0mkwargs\u001b[0m\u001b[1;33m)\u001b[0m\u001b[1;33m\u001b[0m\u001b[0m\n\u001b[0m\u001b[0;32m    311\u001b[0m \u001b[1;33m\u001b[0m\u001b[0m\n\u001b[0;32m    312\u001b[0m         \u001b[1;32mif\u001b[0m \u001b[0mres\u001b[0m \u001b[1;32mis\u001b[0m \u001b[0mNone\u001b[0m\u001b[1;33m:\u001b[0m\u001b[1;33m\u001b[0m\u001b[0m\n",
      "\u001b[1;31mTypeError\u001b[0m: 'NoneType' object is not iterable"
     ]
    }
   ],
   "source": [
    "get_date(10000, 'ngN4TWgL3sY')"
   ]
  },
  {
   "cell_type": "code",
   "execution_count": null,
   "metadata": {
    "collapsed": true
   },
   "outputs": [],
   "source": []
  },
  {
   "cell_type": "code",
   "execution_count": null,
   "metadata": {
    "collapsed": true
   },
   "outputs": [],
   "source": []
  },
  {
   "cell_type": "code",
   "execution_count": null,
   "metadata": {
    "collapsed": true
   },
   "outputs": [],
   "source": []
  }
 ],
 "metadata": {
  "kernelspec": {
   "display_name": "Python 2",
   "language": "python",
   "name": "python2"
  },
  "language_info": {
   "codemirror_mode": {
    "name": "ipython",
    "version": 2
   },
   "file_extension": ".py",
   "mimetype": "text/x-python",
   "name": "python",
   "nbconvert_exporter": "python",
   "pygments_lexer": "ipython2",
   "version": "2.7.9"
  }
 },
 "nbformat": 4,
 "nbformat_minor": 0
}
